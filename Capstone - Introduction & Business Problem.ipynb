{
 "cells": [
  {
   "cell_type": "markdown",
   "metadata": {},
   "source": [
    "# Analyzing San Diego's Housing Auction Data"
   ]
  },
  {
   "cell_type": "markdown",
   "metadata": {},
   "source": [
    "## Introduction"
   ]
  },
  {
   "cell_type": "markdown",
   "metadata": {},
   "source": [
    "A housing auction typically takes place when a property is in foreclosure or if the owner of a property has not paid taxes for an extended amount of time. If the latter occurs, the property can go on auction by the county's tax collector. Through auction, the public has an opportunity to pay off the taxes owed on the property and take ownership of the property. For San Diego County, there are improved, unimproved and timeshare properties that are up for auction coming March 2021."
   ]
  },
  {
   "cell_type": "markdown",
   "metadata": {},
   "source": [
    "## Business Problem"
   ]
  },
  {
   "cell_type": "markdown",
   "metadata": {},
   "source": [
    "There are many problems and questions that arise for an investor who is lookng to buy real estate through auction. Ultimately, the investor wants to make a profit by implementing a real estate strategy (e.g. repairing-selling, buy-hold-rent, etc.). Before the investor can implement their strategy, they first must come into possesion of the real estate. Two main questions arise:\n",
    "\n",
    "        1. What is the least amount for a winning bid on a property? (i.e. The investor does not want to overpay for a property and not be able to make a profit)\n",
    "        2. Once in possesion, how much can the property potentially be sold for?\n",
    "\n",
    "The answers to these questions can be a difference between profit or loss for an investor. Buying real estate at auction comes with high risks, because bidders are not allowed to enter the premises and thorughly inspect the premises. They must use different known attributes of a property and determine if it is worth it to buy. Obtaining as much information as possible for each property is critical for a successful investment."
   ]
  },
  {
   "cell_type": "code",
   "execution_count": null,
   "metadata": {},
   "outputs": [],
   "source": []
  }
 ],
 "metadata": {
  "kernelspec": {
   "display_name": "Python",
   "language": "python",
   "name": "conda-env-python-py"
  },
  "language_info": {
   "codemirror_mode": {
    "name": "ipython",
    "version": 3
   },
   "file_extension": ".py",
   "mimetype": "text/x-python",
   "name": "python",
   "nbconvert_exporter": "python",
   "pygments_lexer": "ipython3",
   "version": "3.6.12"
  }
 },
 "nbformat": 4,
 "nbformat_minor": 4
}
